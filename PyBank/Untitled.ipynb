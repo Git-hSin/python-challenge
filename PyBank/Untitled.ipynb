{
 "cells": [
  {
   "cell_type": "code",
   "execution_count": 1,
   "metadata": {},
   "outputs": [],
   "source": [
    "import os\n",
    "import csv\n",
    "import pandas as pd\n",
    "from pathlib import Path"
   ]
  },
  {
   "cell_type": "code",
   "execution_count": 2,
   "metadata": {},
   "outputs": [],
   "source": [
    "file = Path('C:/Users/hahma/OneDrive/Desktop/PythonData/USCLOS201811DATA3/03_python/homework/Instructions/PyBank/Resources/budget_data.csv')"
   ]
  },
  {
   "cell_type": "code",
   "execution_count": 3,
   "metadata": {},
   "outputs": [],
   "source": [
    "df_pd = pd.read_csv(file)"
   ]
  },
  {
   "cell_type": "code",
   "execution_count": 4,
   "metadata": {},
   "outputs": [
    {
     "name": "stdout",
     "output_type": "stream",
     "text": [
      "         Date  Profit/Losses\n",
      "0    1/1/2010         867884\n",
      "1    2/1/2010         984655\n",
      "2    3/1/2010         322013\n",
      "3    4/1/2010         -69417\n",
      "4    5/1/2010         310503\n",
      "5    6/1/2010         522857\n",
      "6    7/1/2010        1033096\n",
      "7    8/1/2010         604885\n",
      "8    9/1/2010        -216386\n",
      "9   10/1/2010         477532\n",
      "10  11/1/2010         893810\n",
      "11  12/1/2010         -80353\n",
      "12   1/1/2011         779806\n",
      "13   2/1/2011        -335203\n",
      "14   3/1/2011         697845\n",
      "15   4/1/2011         793163\n",
      "16   5/1/2011         485070\n",
      "17   6/1/2011         584122\n",
      "18   7/1/2011          62729\n",
      "19   8/1/2011         668179\n",
      "20   9/1/2011         899906\n",
      "21  10/1/2011         834719\n",
      "22  11/1/2011         132003\n",
      "23  12/1/2011         309978\n",
      "24   1/1/2012        -755566\n",
      "25   2/1/2012        1170593\n",
      "26   3/1/2012         252788\n",
      "27   4/1/2012        1151518\n",
      "28   5/1/2012         817256\n",
      "29   6/1/2012         570757\n",
      "..        ...            ...\n",
      "56   9/1/2014        1166643\n",
      "57  10/1/2014         947333\n",
      "58  11/1/2014         578668\n",
      "59  12/1/2014         988505\n",
      "60   1/1/2015        1139715\n",
      "61   2/1/2015        1029471\n",
      "62   3/1/2015         687533\n",
      "63   4/1/2015        -524626\n",
      "64   5/1/2015         158620\n",
      "65   6/1/2015          87795\n",
      "66   7/1/2015         423389\n",
      "67   8/1/2015         840723\n",
      "68   9/1/2015         568529\n",
      "69  10/1/2015         332067\n",
      "70  11/1/2015         989499\n",
      "71  12/1/2015         778237\n",
      "72   1/1/2016         650000\n",
      "73   2/1/2016       -1100387\n",
      "74   3/1/2016        -174946\n",
      "75   4/1/2016         757143\n",
      "76   5/1/2016         445709\n",
      "77   6/1/2016         712961\n",
      "78   7/1/2016       -1163797\n",
      "79   8/1/2016         569899\n",
      "80   9/1/2016         768450\n",
      "81  10/1/2016         102685\n",
      "82  11/1/2016         795914\n",
      "83  12/1/2016          60988\n",
      "84   1/1/2017         138230\n",
      "85   2/1/2017         671099\n",
      "\n",
      "[86 rows x 2 columns]\n"
     ]
    }
   ],
   "source": [
    "print(df_pd)"
   ]
  },
  {
   "cell_type": "code",
   "execution_count": 5,
   "metadata": {},
   "outputs": [
    {
     "data": {
      "text/plain": [
       "Date             86\n",
       "Profit/Losses    86\n",
       "dtype: int64"
      ]
     },
     "execution_count": 5,
     "metadata": {},
     "output_type": "execute_result"
    }
   ],
   "source": [
    "df_pd.count()"
   ]
  },
  {
   "cell_type": "code",
   "execution_count": 7,
   "metadata": {},
   "outputs": [],
   "source": [
    "Total_Months = df_pd[\"Date\"].count()"
   ]
  },
  {
   "cell_type": "markdown",
   "metadata": {},
   "source": [
    " "
   ]
  },
  {
   "cell_type": "code",
   "execution_count": 8,
   "metadata": {},
   "outputs": [
    {
     "name": "stdout",
     "output_type": "stream",
     "text": [
      "86\n"
     ]
    }
   ],
   "source": [
    "print(Total_Months)"
   ]
  },
  {
   "cell_type": "code",
   "execution_count": 9,
   "metadata": {},
   "outputs": [],
   "source": [
    "PLdiff = []\n",
    "for i in range(Total_Months):\n",
    "   PLdiff.append(df_pd[\"Profit/Losses\"].iloc[i] - df_pd[\"Profit/Losses\"].iloc[i-1])"
   ]
  },
  {
   "cell_type": "code",
   "execution_count": 10,
   "metadata": {},
   "outputs": [
    {
     "name": "stdout",
     "output_type": "stream",
     "text": [
      "[196785, 116771, -662642, -391430, 379920, 212354, 510239, -428211, -821271, 693918, 416278, -974163, 860159, -1115009, 1033048, 95318, -308093, 99052, -521393, 605450, 231727, -65187, -702716, 177975, -1065544, 1926159, -917805, 898730, -334262, -246499, -64055, -1529236, 1497596, 304914, -635801, 398319, -183161, -37864, -253689, 403655, 94168, 306877, -83000, 210462, -2196167, 1465222, -956983, 1838447, -468003, -64602, 206242, -242155, -449079, 315198, 241099, 111540, 365942, -219310, -368665, 409837, 151210, -110244, -341938, -1212159, 683246, -70825, 335594, 417334, -272194, -236462, 657432, -211262, -128237, -1750387, 925441, 932089, -311434, 267252, -1876758, 1733696, 198551, -665765, 693229, -734926, 77242, 532869]\n"
     ]
    }
   ],
   "source": [
    "print(PLdiff)"
   ]
  },
  {
   "cell_type": "code",
   "execution_count": null,
   "metadata": {},
   "outputs": [],
   "source": []
  },
  {
   "cell_type": "code",
   "execution_count": 11,
   "metadata": {},
   "outputs": [
    {
     "data": {
      "text/plain": [
       "196785"
      ]
     },
     "execution_count": 11,
     "metadata": {},
     "output_type": "execute_result"
    }
   ],
   "source": [
    "PLdiff.pop(0)"
   ]
  },
  {
   "cell_type": "code",
   "execution_count": 12,
   "metadata": {},
   "outputs": [
    {
     "data": {
      "text/plain": [
       "-2315.1176470588234"
      ]
     },
     "execution_count": 12,
     "metadata": {},
     "output_type": "execute_result"
    }
   ],
   "source": [
    "sum(PLdiff)/(Total_Months-1)"
   ]
  },
  {
   "cell_type": "code",
   "execution_count": 112,
   "metadata": {},
   "outputs": [],
   "source": [
    "def average(PLdiff):\n",
    "    total = 0.0\n",
    "    for amount in PLdiff:\n",
    "         total += amount\n",
    "    return total/Total_Months"
   ]
  },
  {
   "cell_type": "code",
   "execution_count": 113,
   "metadata": {},
   "outputs": [
    {
     "name": "stdout",
     "output_type": "stream",
     "text": [
      "0.0\n"
     ]
    }
   ],
   "source": [
    "print(average(PLdiff))"
   ]
  },
  {
   "cell_type": "code",
   "execution_count": null,
   "metadata": {},
   "outputs": [],
   "source": []
  }
 ],
 "metadata": {
  "kernelspec": {
   "display_name": "Python [conda env:PythonDat@]",
   "language": "python",
   "name": "conda-env-PythonDat_-py"
  },
  "language_info": {
   "codemirror_mode": {
    "name": "ipython",
    "version": 3
   },
   "file_extension": ".py",
   "mimetype": "text/x-python",
   "name": "python",
   "nbconvert_exporter": "python",
   "pygments_lexer": "ipython3",
   "version": "3.6.6"
  }
 },
 "nbformat": 4,
 "nbformat_minor": 2
}
